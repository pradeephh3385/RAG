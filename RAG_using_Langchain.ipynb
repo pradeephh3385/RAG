{
  "nbformat": 4,
  "nbformat_minor": 0,
  "metadata": {
    "colab": {
      "provenance": [],
      "gpuType": "T4"
    },
    "kernelspec": {
      "name": "python3",
      "display_name": "Python 3"
    },
    "language_info": {
      "name": "python"
    },
    "accelerator": "GPU"
  },
  "cells": [
    {
      "cell_type": "code",
      "execution_count": null,
      "metadata": {
        "id": "Lre6ROT0i5zf"
      },
      "outputs": [],
      "source": [
        "!pip install langchain openai weaviate-client tiktoken"
      ]
    },
    {
      "cell_type": "code",
      "source": [
        "import requests\n",
        "from langchain.document_loaders import TextLoader"
      ],
      "metadata": {
        "id": "hF3sVuTbjdR_"
      },
      "execution_count": null,
      "outputs": []
    },
    {
      "cell_type": "code",
      "source": [
        "url = \"https://raw.githubusercontent.com/langchain-ai/langchain/master/docs/docs/modules/state_of_the_union.txt\""
      ],
      "metadata": {
        "id": "QYdCKcu_juh1"
      },
      "execution_count": null,
      "outputs": []
    },
    {
      "cell_type": "code",
      "source": [
        "res=requests.get(url)"
      ],
      "metadata": {
        "id": "GPc-ql7ujww-"
      },
      "execution_count": null,
      "outputs": []
    },
    {
      "cell_type": "code",
      "source": [
        "print(res.text)"
      ],
      "metadata": {
        "id": "U8fPL-q-jyrV"
      },
      "execution_count": null,
      "outputs": []
    },
    {
      "cell_type": "code",
      "source": [
        "with open(\"state_of_the_union.txt\",\"w\") as f:\n",
        "  f.write(res.text)"
      ],
      "metadata": {
        "id": "u4anzd71j0Om"
      },
      "execution_count": null,
      "outputs": []
    },
    {
      "cell_type": "code",
      "source": [
        "loder=TextLoader('/content/state_of_the_union.txt')"
      ],
      "metadata": {
        "id": "59NiBPTWkXuw"
      },
      "execution_count": null,
      "outputs": []
    },
    {
      "cell_type": "code",
      "source": [
        "document=loder.load()"
      ],
      "metadata": {
        "id": "sT5CWCkikaKG"
      },
      "execution_count": null,
      "outputs": []
    },
    {
      "cell_type": "code",
      "source": [
        "print(document[0].page_content)"
      ],
      "metadata": {
        "id": "5j4xfIoWkchW"
      },
      "execution_count": null,
      "outputs": []
    },
    {
      "cell_type": "code",
      "source": [
        "from langchain.text_splitter import CharacterTextSplitter"
      ],
      "metadata": {
        "id": "DKPSd1XOkiBU"
      },
      "execution_count": null,
      "outputs": []
    },
    {
      "cell_type": "code",
      "source": [
        "text_splitter=CharacterTextSplitter(chunk_size=500,chunk_overlap=50)"
      ],
      "metadata": {
        "id": "ohN0Jj0XkpDL"
      },
      "execution_count": null,
      "outputs": []
    },
    {
      "cell_type": "code",
      "source": [
        "chunks=text_splitter.split_documents(document)"
      ],
      "metadata": {
        "id": "FRBy5UQOkypO"
      },
      "execution_count": null,
      "outputs": []
    },
    {
      "cell_type": "code",
      "source": [
        "print(chunks[3].page_content)"
      ],
      "metadata": {
        "id": "3j1pytGVk1bi"
      },
      "execution_count": null,
      "outputs": []
    },
    {
      "cell_type": "code",
      "source": [
        "from langchain.embeddings import OpenAIEmbeddings\n"
      ],
      "metadata": {
        "id": "Dx3-seYqk3ND"
      },
      "execution_count": null,
      "outputs": []
    },
    {
      "cell_type": "code",
      "source": [
        "from weaviate import Client\n",
        "from weaviate.embedded import EmbeddedOptions\n",
        "from langchain.vectorstores import Weaviate"
      ],
      "metadata": {
        "id": "n3-8ATfrlAbF"
      },
      "execution_count": null,
      "outputs": []
    },
    {
      "cell_type": "code",
      "source": [
        "client=Client(\n",
        "    embedded_options=EmbeddedOptions()\n",
        ")"
      ],
      "metadata": {
        "colab": {
          "base_uri": "https://localhost:8080/"
        },
        "id": "snet4n7ylHir",
        "outputId": "31aa1062-6adf-4a3d-cf9d-b244b0251875"
      },
      "execution_count": null,
      "outputs": [
        {
          "output_type": "stream",
          "name": "stdout",
          "text": [
            "Binary /root/.cache/weaviate-embedded did not exist. Downloading binary from https://github.com/weaviate/weaviate/releases/download/v1.23.7/weaviate-v1.23.7-Linux-amd64.tar.gz\n",
            "Started /root/.cache/weaviate-embedded: process ID 2664\n"
          ]
        }
      ]
    },
    {
      "cell_type": "code",
      "source": [
        "from google.colab import userdata\n",
        "OPENAI_API_KEY=userdata.get('OPENAI_API_KEY')"
      ],
      "metadata": {
        "id": "Wi603JmqlKbL"
      },
      "execution_count": null,
      "outputs": []
    },
    {
      "cell_type": "code",
      "source": [
        "vectorstore=Weaviate.from_documents(\n",
        "    client=client,\n",
        "    documents=chunks,\n",
        "    embedding=OpenAIEmbeddings(openai_api_key=OPENAI_API_KEY),\n",
        "    by_text=False\n",
        ")"
      ],
      "metadata": {
        "id": "lA4OrIo5lP5W"
      },
      "execution_count": null,
      "outputs": []
    },
    {
      "cell_type": "code",
      "source": [
        "retriever=vectorstore.as_retriever()"
      ],
      "metadata": {
        "id": "fL5D4M19lQEc"
      },
      "execution_count": null,
      "outputs": []
    },
    {
      "cell_type": "code",
      "source": [
        "from langchain.prompts import ChatPromptTemplate"
      ],
      "metadata": {
        "id": "zSeGWgrUlQH8"
      },
      "execution_count": null,
      "outputs": []
    },
    {
      "cell_type": "code",
      "source": [
        "template=\"\"\"You are an assistant for question-answering tasks.\n",
        "Use the following pieces of retrieved context to answer the question.\n",
        "If you don't know the answer, just say that you don't know.\n",
        "Use ten sentences maximum and keep the answer concise.\n",
        "Question: {question}\n",
        "Context: {context}\n",
        "Answer:\n",
        "\"\"\""
      ],
      "metadata": {
        "id": "pzslUtpglQK_"
      },
      "execution_count": null,
      "outputs": []
    },
    {
      "cell_type": "code",
      "source": [
        "prompt=ChatPromptTemplate.from_template(template)"
      ],
      "metadata": {
        "id": "CD0VZoiPlQN4"
      },
      "execution_count": null,
      "outputs": []
    },
    {
      "cell_type": "code",
      "source": [
        "from langchain.chat_models import ChatOpenAI\n",
        "from langchain.schema.runnable import RunnablePassthrough\n",
        "from langchain.schema.output_parser import StrOutputParser"
      ],
      "metadata": {
        "id": "nCNIFmvIlQRC"
      },
      "execution_count": null,
      "outputs": []
    },
    {
      "cell_type": "code",
      "source": [
        "llm_model=ChatOpenAI(openai_api_key=OPENAI_API_KEY,model_name=\"gpt-3.5-turbo\")"
      ],
      "metadata": {
        "id": "1hHoyT5LlQUn"
      },
      "execution_count": null,
      "outputs": []
    },
    {
      "cell_type": "code",
      "source": [
        "query=\"Your question?\""
      ],
      "metadata": {
        "id": "JKVJQ5yEx6eD"
      },
      "execution_count": null,
      "outputs": []
    },
    {
      "cell_type": "code",
      "source": [
        "output_parser = StrOutputParser()"
      ],
      "metadata": {
        "id": "Q9lJo_G4x6gq"
      },
      "execution_count": null,
      "outputs": []
    },
    {
      "cell_type": "code",
      "source": [
        "rag_chain = (\n",
        "    {\"context\": retriever,  \"question\": RunnablePassthrough()}\n",
        "    | prompt\n",
        "    | llm_model\n",
        "    | output_parser\n",
        ")"
      ],
      "metadata": {
        "id": "JVzO3TVWx6jl"
      },
      "execution_count": null,
      "outputs": []
    },
    {
      "cell_type": "code",
      "source": [
        "rag_chain.invoke(query)"
      ],
      "metadata": {
        "id": "kO_KwUG0x6ms"
      },
      "execution_count": null,
      "outputs": []
    },
    {
      "cell_type": "code",
      "source": [],
      "metadata": {
        "id": "qiNfMJapySDj"
      },
      "execution_count": null,
      "outputs": []
    },
    {
      "cell_type": "code",
      "source": [],
      "metadata": {
        "id": "sUp2QM09x6p-"
      },
      "execution_count": null,
      "outputs": []
    }
  ]
}